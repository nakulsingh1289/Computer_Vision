{
 "nbformat": 4,
 "nbformat_minor": 2,
 "metadata": {
  "language_info": {
   "name": "python",
   "codemirror_mode": {
    "name": "ipython",
    "version": 3
   },
   "version": "3.7.6-final"
  },
  "orig_nbformat": 2,
  "file_extension": ".py",
  "mimetype": "text/x-python",
  "name": "python",
  "npconvert_exporter": "python",
  "pygments_lexer": "ipython3",
  "version": 3,
  "kernelspec": {
   "name": "python37664bit7fa94754980449c5b815f20e746f1f4d",
   "display_name": "Python 3.7.6 64-bit"
  }
 },
 "cells": [
  {
   "cell_type": "code",
   "execution_count": 1,
   "metadata": {},
   "outputs": [],
   "source": [
    "#import required libraries\n",
    "\n",
    "import numpy as np \n",
    "import imutils\n",
    "import cv2\n",
    ""
   ]
  },
  {
   "cell_type": "code",
   "execution_count": 2,
   "metadata": {},
   "outputs": [],
   "source": [
    "# this function sort the contours in differet order\n",
    "# takes two argument 1.contours, 2.method\n",
    "# return two parameter 1.sorted contour 2.bounding box\n",
    "\n",
    "def sort_contours(cnts, method=\"left-to-right\" ):\n",
    "    reverse= False\n",
    "    i= 0\n",
    "\n",
    "    if method== 'right-to-left' or method== ' bottom-to-top':\n",
    "        reverse= True\n",
    "    \n",
    "    if method=='top-to-bottom' or method== 'bottom-to-top':\n",
    "        i= 1\n",
    "\n",
    "    boundingboxes= [cv2.boundingRect(c) for c in cnts]\n",
    "    (cnts, boundingboxes)= zip(*sorted(zip(cnts, boundingboxes), key= lambda b:b[1][i], reverse= reverse))\n",
    "    return (cnts, boundingboxes)"
   ]
  },
  {
   "cell_type": "code",
   "execution_count": 3,
   "metadata": {},
   "outputs": [],
   "source": [
    "# function to draw contour numbers \n",
    "\n",
    "def draw_contour(image, c, i):\n",
    "    m = cv2.moments(c)\n",
    "    cx= int(m['m10']/ m['m00'])\n",
    "    cy= int(m['m01']/ m['m00'])\n",
    "\n",
    "    cv2.putText(image, '#{}'.format(i+1), (cx-20, cy), cv2.FONT_HERSHEY_COMPLEX, 1.0, (255,255,255), 2)\n",
    "\n",
    "    return image\n",
    ""
   ]
  },
  {
   "cell_type": "code",
   "execution_count": 4,
   "metadata": {},
   "outputs": [],
   "source": [
    "# read image\n",
    "image= cv2.imread('dataset/image_01.png')\n",
    "accumEdged= np.zeros(image.shape[:2], dtype='uint8')\n",
    "for chan in cv2.split(image):\n",
    "    chan = cv2.medianBlur(chan, 11)\n",
    "    edged= cv2.Canny(chan, 50, 200)\n",
    "    accumEdged= cv2.bitwise_or(accumEdged, edged)\n",
    "\n",
    "# display image having countours\n",
    "cv2.imshow(\"Edged Map\", accumEdged )\n",
    "\n",
    "# detect, sort(areawise) contours\n",
    "cnts= cv2.findContours(accumEdged.copy(), cv2.RETR_EXTERNAL, cv2.CHAIN_APPROX_SIMPLE)\n",
    "cnts= imutils.grab_contours(cnts)\n",
    "cnts = sorted( cnts, key= cv2.contourArea, reverse= True)[:5]\n",
    "orig = image.copy()\n",
    "\n",
    "# call function draw_contours to draw contours sorted according tp area\n",
    "for (i,c) in enumerate(cnts):\n",
    "    orig= draw_contour(orig, c, i)\n",
    "\n",
    "cv2.imshow('Sorted according to area', orig)\n",
    "\n",
    "# call function sort_contours to sort according to method\n",
    "(cnts, boundingBoxes)= sort_contours(cnts, method= 'top-to-bottom')\n",
    "\n",
    "\n",
    "for (i,c) in enumerate(cnts):\n",
    "    draw_contour(image, c, i)\n",
    "\n",
    "#display image with sorted contours\n",
    "cv2.imshow('Sorted according to method', image)\n",
    "cv2.waitKey(0)"
   ]
  },
  {
   "cell_type": "code",
   "execution_count": null,
   "metadata": {},
   "outputs": [],
   "source": []
  }
 ]
}