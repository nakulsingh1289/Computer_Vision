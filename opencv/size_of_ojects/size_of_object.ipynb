{
 "nbformat": 4,
 "nbformat_minor": 2,
 "metadata": {
  "language_info": {
   "name": "python",
   "codemirror_mode": {
    "name": "ipython",
    "version": 3
   },
   "version": "3.7.6-final"
  },
  "orig_nbformat": 2,
  "file_extension": ".py",
  "mimetype": "text/x-python",
  "name": "python",
  "npconvert_exporter": "python",
  "pygments_lexer": "ipython3",
  "version": 3,
  "kernelspec": {
   "name": "python37664bit7fa94754980449c5b815f20e746f1f4d",
   "display_name": "Python 3.7.6 64-bit"
  }
 },
 "cells": [
  {
   "cell_type": "code",
   "execution_count": 1,
   "metadata": {},
   "outputs": [],
   "source": [
    "from scipy.spatial import distance as dist\n",
    "from imutils import perspective\n",
    "from imutils import contours\n",
    "import numpy as np \n",
    "import imutils \n",
    "import cv2"
   ]
  },
  {
   "cell_type": "code",
   "execution_count": 2,
   "metadata": {},
   "outputs": [],
   "source": [
    "def midpoint(ptA, ptB):\n",
    "    return ((ptA[0]+ptB[0])*0.5, (ptA[1] + ptB[1])*0.5)"
   ]
  },
  {
   "cell_type": "code",
   "execution_count": 3,
   "metadata": {},
   "outputs": [],
   "source": [
    "image= cv2.imread(\"example_03.png\")\n",
    "gray= cv2.cvtColor(image, cv2.COLOR_BGR2GRAY)\n",
    "gray= cv2.GaussianBlur(gray, (11,11), 0)\n"
   ]
  },
  {
   "cell_type": "code",
   "execution_count": 4,
   "metadata": {},
   "outputs": [],
   "source": [
    "edged= cv2.Canny(gray, 50, 100 )\n",
    "edged= cv2.dilate(edged, None, iterations= 1)\n",
    "edged= cv2.erode(edged, None, iterations= 1)\n"
   ]
  },
  {
   "cell_type": "code",
   "execution_count": 5,
   "metadata": {},
   "outputs": [],
   "source": [
    "cnts= cv2.findContours(edged.copy(), cv2.RETR_EXTERNAL, cv2.CHAIN_APPROX_SIMPLE)\n",
    "\n",
    "cnts= imutils.grab_contours(cnts)"
   ]
  },
  {
   "cell_type": "code",
   "execution_count": 6,
   "metadata": {},
   "outputs": [],
   "source": [
    "(cnts, _) = contours.sort_contours(cnts)\n",
    "pixelPerMetric = None\n",
    "width= 0.955\n"
   ]
  },
  {
   "cell_type": "code",
   "execution_count": 7,
   "metadata": {},
   "outputs": [],
   "source": [
    "for c in cnts:\n",
    "    if cv2.contourArea(c)<100:\n",
    "        continue\n",
    "    orig= image.copy()\n",
    "    box= cv2.minAreaRect(c)\n",
    "    box= cv2.boxPoints(box)\n",
    "    box= np.array(box, dtype='int')\n",
    "\n",
    "    box= perspective.order_points(box)\n",
    "    cv2.drawContours(orig, [box.astype('int')], -1,(0, 255, 0), 2)\n",
    "\n",
    "    for (x,y) in box:\n",
    "        cv2.circle(orig, (int(x), int(y)), 5, (0,0,255), -1)\n",
    "\n",
    "    (tl, tr, br, bl)= box\n",
    "    (tltrX, tltrY)= midpoint(tl, tr)\n",
    "    (blbrX, blbrY)= midpoint(bl, br)\n",
    "\n",
    "    (tlblX, tlblY)= midpoint(tl, bl)\n",
    "    (trbrX, trbrY)= midpoint(tr, br)\n",
    "\n",
    "    cv2.circle(orig, (int(tltrX), int(tltrY)), 5, (255,0,0), -1)\n",
    "    cv2.circle(orig, (int(blbrX), int(blbrY)), 5, (255,0,0), -1)\n",
    "    cv2.circle(orig, (int(tlblX), int(tlblY)), 5, (255,0,0), -1)\n",
    "    cv2.circle(orig, (int(trbrX), int(trbrY)), 5, (255,0,0), -1)\n",
    "\n",
    "    cv2.line(orig, (int(tltrX), int(tltrY)), (int(blbrX), int(blbrY)), (255,0,255), 2)\n",
    "    cv2.line(orig, (int(tlblX), int(tlblY)), (int(trbrX), int(trbrY)), (255,0, 255), 2)\n",
    "\n",
    "    dA= dist.euclidean((tltrX, tltrY), (blbrX, blbrY))\n",
    "    dB= dist.euclidean((tlblX, tlblY), (trbrX, trbrY))\n",
    "\n",
    "    if pixelPerMetric is None:\n",
    "        pixelPerMetric= dB / width\n",
    "\n",
    "    dimA= dA/ pixelPerMetric\n",
    "    dimB= dB/ pixelPerMetric\n",
    "\n",
    "    cv2.putText(orig, \"{: 1f}in\".format(dimA), (int(tltrX -15), int(tltrY- 10)), cv2.FONT_HERSHEY_SCRIPT_SIMPLEX, 0.45, (0,0,0), 2)\n",
    "    cv2.putText(orig, \"{:.1f}in\".format(dimB), (int(trbrX + 10), int(trbrY)), cv2.FONT_HERSHEY_SIMPLEX, 0.45, (0,0,0), 2)\n",
    "\n",
    "    cv2.imshow('Image', orig)\n",
    "    cv2.waitKey(0)"
   ]
  },
  {
   "cell_type": "code",
   "execution_count": null,
   "metadata": {},
   "outputs": [],
   "source": []
  }
 ]
}