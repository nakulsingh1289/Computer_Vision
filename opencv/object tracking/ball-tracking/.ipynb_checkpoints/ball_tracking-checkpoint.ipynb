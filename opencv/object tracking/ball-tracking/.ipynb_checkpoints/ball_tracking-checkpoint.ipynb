{
 "cells": [
  {
   "cell_type": "markdown",
   "metadata": {},
   "source": [
    "# Ball Tracking"
   ]
  },
  {
   "cell_type": "code",
   "execution_count": 1,
   "metadata": {},
   "outputs": [],
   "source": [
    "# import required packages\n",
    "\n",
    "import numpy as np \n",
    "import cv2\n",
    "import imutils\n",
    "import time\n",
    "from imutils.video import VideoStream\n",
    "from collections import deque"
   ]
  },
  {
   "cell_type": "code",
   "execution_count": 2,
   "metadata": {},
   "outputs": [],
   "source": [
    "greenLower= (29, 86, 6)            # lower limit \n",
    "greenUpper= (64, 255, 255)         # upper limit \n",
    "\n",
    "buffer = 100           # it will decide the lenght of the tracking line\n",
    "pts= deque(maxlen=buffer)\n",
    "\n",
    "vs= VideoStream(src=0).start()    # start capturing frames from webcam\n",
    "\n",
    "time.sleep(2.0)      # warm up time \n"
   ]
  },
  {
   "cell_type": "code",
   "execution_count": 3,
   "metadata": {},
   "outputs": [],
   "source": [
    "\n",
    "while True:      \n",
    "    frame= vs.read()     # reading each frame\n",
    "\n",
    "    if frame is None:\n",
    "        break\n",
    "\n",
    "    # resize , blur , and convert to hsv\n",
    "\n",
    "    frame = imutils.resize(frame, width=600)\n",
    "    blurred= cv2.GaussianBlur(frame, (11,11), 0)\n",
    "    hsv= cv2.cvtColor(blurred, cv2.COLOR_BGR2HSV)\n",
    "\n",
    "    # detecting green colour ball by creating a mask imaged\n",
    "    # using inRange function\n",
    "    mask= cv2.inRange(hsv, greenLower, greenUpper)\n",
    "    mask= cv2.erode(mask, None , iterations=2)\n",
    "    mask= cv2.dilate(mask, None, iterations=2)\n",
    "    \n",
    "    # find contours \n",
    "    cnts= cv2.findContours(mask.copy(), cv2.RETR_EXTERNAL, cv2.CHAIN_APPROX_SIMPLE)\n",
    "    cnts= imutils.grab_contours(cnts)\n",
    "    center= None\n",
    "    \n",
    "    # if one or more contour is detected\n",
    "    if len(cnts)>0:\n",
    "        c= max(cnts, key= cv2.contourArea)\n",
    "        ((x,y), radius)= cv2.minEnclosingCircle(c)\n",
    "        M= cv2.moments(c)\n",
    "\n",
    "        center = (int(M[\"m10\"] / M[\"m00\"]), int(M[\"m01\"] / M[\"m00\"]))\n",
    "\n",
    "        if radius>10:\n",
    "            cv2.circle(frame, center, 5, (0, 0, 255), -1)\n",
    "            cv2.circle(frame, (int(x), int(y)), int(radius), (0, 255, 255), 2)\n",
    "\n",
    "    pts.appendleft(center)\n",
    "\n",
    "\n",
    "    for i in range(1, len(pts)):\n",
    "        if pts[i-1] is None or pts[i] is None:\n",
    "            continue\n",
    "        \n",
    "        thickness= int(np.sqrt(buffer/ float(i+1))*2.5)\n",
    "        cv2.line(frame, pts[i-1], pts[i], (0,0,255), thickness)\n",
    "    \n",
    "    cv2.imshow(\"Frame\", frame)\n",
    "\n",
    "    key= cv2.waitKey(1) & 0xFF\n",
    "\n",
    "    if key== ord(\"q\"):\n",
    "        break\n",
    "\n",
    "\n",
    "vs.stop()\n",
    "cv2.destroyAllWindows()\n",
    "\n",
    "\n",
    "\n"
   ]
  }
 ],
 "metadata": {
  "file_extension": ".py",
  "kernelspec": {
   "display_name": "Python 3.7.6 64-bit",
   "language": "python",
   "name": "python37664bit7fa94754980449c5b815f20e746f1f4d"
  },
  "language_info": {
   "codemirror_mode": {
    "name": "ipython",
    "version": 3
   },
   "name": "python",
   "version": "3.7.6-final"
  },
  "mimetype": "text/x-python",
  "name": "python",
  "npconvert_exporter": "python",
  "pygments_lexer": "ipython3",
  "version": 3
 },
 "nbformat": 4,
 "nbformat_minor": 2
}
